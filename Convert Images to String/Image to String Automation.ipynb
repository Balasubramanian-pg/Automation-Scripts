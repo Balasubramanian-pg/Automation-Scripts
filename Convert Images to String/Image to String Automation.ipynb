{
 "cells": [
  {
   "cell_type": "markdown",
   "metadata": {},
   "source": [
    "## Requirements for Running the Code\n",
    "\n",
    "### 1. **Python Environment:**\n",
    "* Ensure you have Python installed on your system. The code is likely written for Python 3.\n",
    "* If you don't have Python, download and install it from [https://www.python.org/downloads/](https://www.python.org/downloads/)\n",
    "\n",
    "### 2. **nanonets Library:**\n",
    "* This library is required to interact with the NanoNets OCR API.\n",
    "* Install it using pip:\n",
    "  ```bash\n",
    "  pip install nanonets\n",
    "  ```\n",
    "\n",
    "### 3. **NanoNets API Token:**\n",
    "* You need a valid API token from NanoNets to use their OCR service.\n",
    "* Create a NanoNets account at [https://nanonets.com](https://nanonets.com) and generate an API token.\n",
    "* Replace the placeholder token in the code with your actual API token.\n",
    "\n",
    "### 4. **Image or Document:**\n",
    "* To perform OCR, you'll need an image or document containing text.\n",
    "* Make sure the image or document is in a supported format (e.g., JPEG, PNG, PDF).\n",
    "\n",
    "### Steps to Execute the Code:\n",
    "\n",
    "1. **Set up Environment:**\n",
    "   * Install Python and the `nanonets` library.\n",
    "   * Obtain your NanoNets API token.\n",
    "\n",
    "2. **Create Python Script:**\n",
    "   * Create a Python script (e.g., `ocr.py`) and paste the provided code into it.\n",
    "   * Replace the placeholder API token with your actual token.\n",
    "\n",
    "3. **Import Image or Document:**\n",
    "   * Add code to load the image or document you want to process.\n",
    "\n",
    "4. **Perform OCR:**\n",
    "   * Use the `model` object to perform OCR on the image or document.\n",
    "\n",
    "5. **Process Results:**\n",
    "   * Extract the recognized text from the OCR results and process it as needed.\n",
    "\n",
    "**Remember to replace `'YOUR_API_TOKEN'` with your actual NanoNets API token.**\n",
    "\n",
    "By following these steps and providing the necessary inputs, you can successfully use the NanoNets OCR library to extract text from images or documents.\n",
    " \n",
    "**Would you like to see an example of how to perform OCR on an image using this code?**\n"
   ]
  },
  {
   "cell_type": "markdown",
   "metadata": {},
   "source": [
    "**Import Necessary Library:**\n",
    "* `from nanonets import NANONETSOCR`: This line imports the `NANONETSOCR` class from the `nanonets` library, which is used for interacting with the NanoNets OCR API.\n",
    "\n",
    "**Create OCR Model Instance:**\n",
    "* `model = NANONETSOCR()`: This line creates an instance of the `NANONETSOCR` class, which represents an OCR model.\n",
    "\n",
    "**Set API Token:**\n",
    "* `model.set_token('6a7c8b27-466b-11ef-b890-76cd27428090')`: This line sets the API token for the OCR model. This token is required to authenticate with the NanoNets API and use their OCR services. Replace the placeholder token with your actual NanoNets API token.\n",
    "\n",
    "**Overall Purpose:**\n",
    "This code snippet initializes a NanoNets OCR model and sets the API token for subsequent interactions with the NanoNets OCR API. It's a foundational step for using the NanoNets OCR library in a Python project.\n",
    "\n",
    "**Additional Notes:**\n",
    "* This code doesn't perform any OCR tasks yet. It only sets up the environment for using the NanoNets OCR API.\n",
    "* To actually use the OCR model, you would typically provide an image or document to the model and call a method to extract the text from it.\n"
   ]
  },
  {
   "cell_type": "code",
   "execution_count": 1,
   "metadata": {},
   "outputs": [],
   "source": [
    "from nanonets import NANONETSOCR\n",
    "model = NANONETSOCR()\n",
    "model.set_token('6a7c8b27-466b-11ef-b890-76cd27428090')"
   ]
  },
  {
   "cell_type": "code",
   "execution_count": 2,
   "metadata": {},
   "outputs": [],
   "source": [
    "# PDF / Image to String\n",
    "string = model.convert_to_string(r\"C:\\Users\\ASUS\\OneDrive\\Pictures\\2021-23.pdf\")\n",
    "print(string)"
   ]
  }
 ],
 "metadata": {
  "kernelspec": {
   "display_name": "Python 3",
   "language": "python",
   "name": "python3"
  },
  "language_info": {
   "codemirror_mode": {
    "name": "ipython",
    "version": 3
   },
   "file_extension": ".py",
   "mimetype": "text/x-python",
   "name": "python",
   "nbconvert_exporter": "python",
   "pygments_lexer": "ipython3",
   "version": "3.12.4"
  }
 },
 "nbformat": 4,
 "nbformat_minor": 2
}
